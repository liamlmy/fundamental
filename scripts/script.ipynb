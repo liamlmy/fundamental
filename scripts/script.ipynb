{
 "cells": [
  {
   "cell_type": "code",
   "execution_count": 10,
   "id": "c5b198ba-c793-4caa-a05b-8681fba7ff44",
   "metadata": {},
   "outputs": [
    {
     "name": "stdout",
     "output_type": "stream",
     "text": [
      "[[6, 1], [5, 0], [4, 0], [3, 1], [2, 1], [1, 0]]\n",
      "auc=0.4444444444444444\n"
     ]
    }
   ],
   "source": [
    "# AUC\n",
    "def cal_auc(score_list):\n",
    "    score_list = sorted(score_list, key=lambda x: x[0], reverse=True)\n",
    "    #(totalPosRank - (nump+1)nump/2)/(nump*numn)\n",
    "    pos_cnt = 0\n",
    "    neg_cnt = 0\n",
    "    total_pos_rank = 0\n",
    "    for i in range(len(score_list)):\n",
    "        rank = i + 1\n",
    "        if score_list[i][1] == 1:\n",
    "            total_pos_rank += rank\n",
    "            pos_cnt += 1\n",
    "        else:\n",
    "            neg_cnt += 1\n",
    "    print(score_list)\n",
    "    return (total_pos_rank - (pos_cnt + 1) * pos_cnt / 2.0) / (pos_cnt * neg_cnt)\n",
    "score_list = [[2,1],[1,0],[6,1],[4,0],[5,0],[3,1]]\n",
    "auc = cal_auc(score_list)\n",
    "print(\"auc={}\".format(auc))"
   ]
  },
  {
   "cell_type": "code",
   "execution_count": 23,
   "id": "3e180c46-7391-4b8d-bb87-478ff9baf332",
   "metadata": {},
   "outputs": [
    {
     "name": "stdout",
     "output_type": "stream",
     "text": [
      "[[1 2 3 4]\n",
      " [1 2 3 4]]\n",
      "[[0.05 0.1  0.15 0.2 ]\n",
      " [0.05 0.1  0.15 0.2 ]]\n",
      "[[0.18257419 0.36514837 0.54772256 0.73029674]\n",
      " [0.18257419 0.36514837 0.54772256 0.73029674]]\n"
     ]
    }
   ],
   "source": [
    "# L1 & L2\n",
    "import numpy as np\n",
    "def l1_norm(x, epsilon=1e-10):\n",
    "    output = x / np.maximum(np.sum(np.abs(x)), epsilon)\n",
    "    return output\n",
    "\n",
    "def l2_norm(x, axis=-1, epsilon=1e-10):\n",
    "    output = x / np.sqrt(np.maximum(np.sum(np.square(x), axis=axis, keepdims=True), epsilon))\n",
    "    return output\n",
    "x = np.array([[1,2,3,4],[1,2,3,4]])\n",
    "#x = np.arange(12).reshape([1,3,4])\n",
    "print(x)\n",
    "print(l1_norm(x))\n",
    "print(l2_norm(x))"
   ]
  },
  {
   "cell_type": "code",
   "execution_count": 34,
   "id": "84b903d1-1809-4db3-be9b-c0c32f438813",
   "metadata": {},
   "outputs": [
    {
     "name": "stdout",
     "output_type": "stream",
     "text": [
      "[[0.2 0.4 0.6 0. ]\n",
      " [0.  0.  1.6 0. ]]\n",
      "[[0.1 0.2 0.3 0.4]\n",
      " [0.6 0.7 0.8 0.9]]\n"
     ]
    }
   ],
   "source": [
    "# dropout\n",
    "import numpy as np\n",
    "def dropout(x, p, mode='train'):\n",
    "    keep_prob = 1 - p\n",
    "    if mode == 'train':\n",
    "        x *= np.random.binomial(1, keep_prob, size=x.shape) / keep_prob\n",
    "    return x\n",
    "\n",
    "x = np.array([[.1,.2,.3,.4,],[.6,.7,.8,.9]])\n",
    "print(dropout(x, 0.5, 'train'))\n",
    "x = np.array([[.1,.2,.3,.4,],[.6,.7,.8,.9]])\n",
    "print(dropout(x, 0.5, 'predict'))"
   ]
  },
  {
   "cell_type": "code",
   "execution_count": null,
   "id": "936a0994-311a-4458-806d-2ce3fe9743fd",
   "metadata": {},
   "outputs": [],
   "source": []
  }
 ],
 "metadata": {
  "kernelspec": {
   "display_name": "Python 3 (ipykernel)",
   "language": "python",
   "name": "python3"
  },
  "language_info": {
   "codemirror_mode": {
    "name": "ipython",
    "version": 3
   },
   "file_extension": ".py",
   "mimetype": "text/x-python",
   "name": "python",
   "nbconvert_exporter": "python",
   "pygments_lexer": "ipython3",
   "version": "3.12.7"
  }
 },
 "nbformat": 4,
 "nbformat_minor": 5
}
